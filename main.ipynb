{
 "cells": [
  {
   "cell_type": "code",
   "execution_count": 1,
   "metadata": {},
   "outputs": [],
   "source": [
    "import cv2\n",
    "import numpy as np"
   ]
  },
  {
   "cell_type": "markdown",
   "metadata": {},
   "source": [
    "Reading image and printing details"
   ]
  },
  {
   "cell_type": "code",
   "execution_count": 2,
   "metadata": {},
   "outputs": [],
   "source": [
    "# Reading image\n",
    "image = cv2.imread('image.jpg')"
   ]
  },
  {
   "cell_type": "code",
   "execution_count": 3,
   "metadata": {},
   "outputs": [
    {
     "name": "stdout",
     "output_type": "stream",
     "text": [
      "(460, 460, 3)\n",
      "Width in px: 460\n",
      "Height in px: 460\n",
      "Channels quantity: 3\n"
     ]
    }
   ],
   "source": [
    "# Image details\n",
    "print(image.shape)\n",
    "print(f'Width in px: {image.shape[1]}')\n",
    "print(f'Height in px: {image.shape[0]}')\n",
    "print(f'Channels quantity: {image.shape[2]}')"
   ]
  },
  {
   "cell_type": "code",
   "execution_count": 4,
   "metadata": {},
   "outputs": [
    {
     "data": {
      "text/plain": [
       "-1"
      ]
     },
     "execution_count": 4,
     "metadata": {},
     "output_type": "execute_result"
    }
   ],
   "source": [
    "# Shows image\n",
    "cv2.imshow('Window Name', image)\n",
    "cv2.waitKey(0)"
   ]
  },
  {
   "cell_type": "markdown",
   "metadata": {},
   "source": [
    "Get BRG order (thats right, brg not rgb)"
   ]
  },
  {
   "cell_type": "code",
   "execution_count": 7,
   "metadata": {},
   "outputs": [
    {
     "name": "stdout",
     "output_type": "stream",
     "text": [
      "Pixel (0, 0) has this colors: \n",
      "Red: 249 Green: 236 Blue: 255\n"
     ]
    }
   ],
   "source": [
    "# Get BGR order \n",
    "(b, g, r) = image[0, 0]\n",
    "# Print results\n",
    "print('Pixel (0, 0) has this colors: ')\n",
    "print(f'Red: {r} Green: {g} Blue: {b}')"
   ]
  },
  {
   "cell_type": "markdown",
   "metadata": {},
   "source": [
    "Change all colors to Blue"
   ]
  },
  {
   "cell_type": "code",
   "execution_count": 10,
   "metadata": {},
   "outputs": [
    {
     "data": {
      "text/plain": [
       "-1"
      ]
     },
     "execution_count": 10,
     "metadata": {},
     "output_type": "execute_result"
    }
   ],
   "source": [
    "# Create copy from image\n",
    "blue_image = image\n",
    "\n",
    "for x in range(0, image.shape[1]):\n",
    "    for y in range(0, image.shape[0]):\n",
    "        blue_image[y, x] = (255, 0, 0)\n",
    "\n",
    "cv2.imshow('All blue image', blue_image)\n",
    "cv2.waitKey(0)"
   ]
  },
  {
   "cell_type": "markdown",
   "metadata": {},
   "source": [
    "Change color every pixel"
   ]
  },
  {
   "cell_type": "code",
   "execution_count": 11,
   "metadata": {},
   "outputs": [
    {
     "data": {
      "text/plain": [
       "-1"
      ]
     },
     "execution_count": 11,
     "metadata": {},
     "output_type": "execute_result"
    }
   ],
   "source": [
    "# Create copy from image\n",
    "change_image = image\n",
    "\n",
    "for x in range(0, image.shape[1]):\n",
    "    for y in range(0, image.shape[0]):\n",
    "        # Getting the rest of division\n",
    "        change_image[y, x] = (x%256, y%256, x%256)\n",
    "\n",
    "cv2.imshow('Changed Color', change_image)\n",
    "cv2.waitKey(0)"
   ]
  }
 ],
 "metadata": {
  "kernelspec": {
   "display_name": "Python 3.9.12 ('venv': venv)",
   "language": "python",
   "name": "python3"
  },
  "language_info": {
   "codemirror_mode": {
    "name": "ipython",
    "version": 3
   },
   "file_extension": ".py",
   "mimetype": "text/x-python",
   "name": "python",
   "nbconvert_exporter": "python",
   "pygments_lexer": "ipython3",
   "version": "3.11.0"
  },
  "orig_nbformat": 4,
  "vscode": {
   "interpreter": {
    "hash": "a9c2575cda6f12245c53bfc281fbffec917033c657221397a35f03404e3a4459"
   }
  }
 },
 "nbformat": 4,
 "nbformat_minor": 2
}
