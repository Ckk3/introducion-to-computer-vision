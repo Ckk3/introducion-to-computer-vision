{
 "cells": [
  {
   "cell_type": "code",
   "execution_count": 1,
   "metadata": {},
   "outputs": [],
   "source": [
    "import cv2\n",
    "import numpy as np"
   ]
  },
  {
   "cell_type": "markdown",
   "metadata": {},
   "source": [
    "Reading image and printing details"
   ]
  },
  {
   "cell_type": "code",
   "execution_count": 2,
   "metadata": {},
   "outputs": [],
   "source": [
    "# Reading image\n",
    "image = cv2.imread('image.jpg')"
   ]
  },
  {
   "cell_type": "code",
   "execution_count": 3,
   "metadata": {},
   "outputs": [
    {
     "name": "stdout",
     "output_type": "stream",
     "text": [
      "(460, 460, 3)\n",
      "Width in px: 460\n",
      "Height in px: 460\n",
      "Channels quantity: 3\n"
     ]
    }
   ],
   "source": [
    "# Image details\n",
    "print(image.shape)\n",
    "print(f'Width in px: {image.shape[1]}')\n",
    "print(f'Height in px: {image.shape[0]}')\n",
    "print(f'Channels quantity: {image.shape[2]}')"
   ]
  },
  {
   "cell_type": "code",
   "execution_count": 4,
   "metadata": {},
   "outputs": [
    {
     "data": {
      "text/plain": [
       "-1"
      ]
     },
     "execution_count": 4,
     "metadata": {},
     "output_type": "execute_result"
    }
   ],
   "source": [
    "# Shows image\n",
    "cv2.imshow('Window Name', image)\n",
    "cv2.waitKey(0)"
   ]
  },
  {
   "cell_type": "markdown",
   "metadata": {},
   "source": [
    "Get BRG order (thats right, brg not rgb)"
   ]
  },
  {
   "cell_type": "code",
   "execution_count": 5,
   "metadata": {},
   "outputs": [
    {
     "name": "stdout",
     "output_type": "stream",
     "text": [
      "Pixel (0, 0) has this colors: \n",
      "Red: 249 Green: 236 Blue: 255\n"
     ]
    }
   ],
   "source": [
    "# Get BGR order \n",
    "(b, g, r) = image[0, 0]\n",
    "# Print results\n",
    "print('Pixel (0, 0) has this colors: ')\n",
    "print(f'Red: {r} Green: {g} Blue: {b}')"
   ]
  },
  {
   "cell_type": "markdown",
   "metadata": {},
   "source": [
    "Change all colors to Blue"
   ]
  },
  {
   "cell_type": "code",
   "execution_count": 6,
   "metadata": {},
   "outputs": [
    {
     "data": {
      "text/plain": [
       "-1"
      ]
     },
     "execution_count": 6,
     "metadata": {},
     "output_type": "execute_result"
    }
   ],
   "source": [
    "# Create copy from image\n",
    "blue_image = image.copy()\n",
    "\n",
    "for x in range(0, blue_image.shape[1]):\n",
    "    for y in range(0, blue_image.shape[0]):\n",
    "        blue_image[y, x] = (255, 0, 0)\n",
    "\n",
    "cv2.imshow('All blue image', blue_image)\n",
    "cv2.waitKey(0)"
   ]
  },
  {
   "cell_type": "markdown",
   "metadata": {},
   "source": [
    "Change color every pixel"
   ]
  },
  {
   "cell_type": "code",
   "execution_count": 7,
   "metadata": {},
   "outputs": [
    {
     "data": {
      "text/plain": [
       "-1"
      ]
     },
     "execution_count": 7,
     "metadata": {},
     "output_type": "execute_result"
    }
   ],
   "source": [
    "# Create copy from image\n",
    "change_image = image.copy()\n",
    "\n",
    "for x in range(0, change_image.shape[1]):\n",
    "    for y in range(0, change_image.shape[0]):\n",
    "        # Getting the rest of division\n",
    "        change_image[y, x] = (x%256, y%256, x%256)\n",
    "\n",
    "cv2.imshow('Changed Color', change_image)\n",
    "cv2.waitKey(0)"
   ]
  },
  {
   "cell_type": "markdown",
   "metadata": {},
   "source": [
    "Change only green field"
   ]
  },
  {
   "cell_type": "code",
   "execution_count": 8,
   "metadata": {},
   "outputs": [
    {
     "data": {
      "text/plain": [
       "-1"
      ]
     },
     "execution_count": 8,
     "metadata": {},
     "output_type": "execute_result"
    }
   ],
   "source": [
    "# Copy from image \n",
    "green_image = image.copy()\n",
    "\n",
    "for x in range(0, green_image.shape[1]):\n",
    "    for y in range(0, green_image.shape[0]):\n",
    "        green_image[y, x] = (0, (x*y)%256 , 0)\n",
    "\n",
    "\n",
    "cv2.imshow('Change green field', green_image)\n",
    "cv2.waitKey(0)\n"
   ]
  },
  {
   "cell_type": "markdown",
   "metadata": {},
   "source": [
    "Change in 10 in 10 pixels"
   ]
  },
  {
   "cell_type": "code",
   "execution_count": 9,
   "metadata": {},
   "outputs": [
    {
     "data": {
      "text/plain": [
       "-1"
      ]
     },
     "execution_count": 9,
     "metadata": {},
     "output_type": "execute_result"
    }
   ],
   "source": [
    "ten_ten_image = image.copy()\n",
    "\n",
    "for x in range(0, ten_ten_image.shape[1], 10):\n",
    "    for y in range(0, ten_ten_image.shape[0], 10):\n",
    "        # Change this pixel to yellow\n",
    "        ten_ten_image[y, x] = (0, 255, 255)\n",
    "\n",
    "cv2.imshow('Yelloy ten ten', ten_ten_image)\n",
    "cv2.waitKey(0)"
   ]
  },
  {
   "cell_type": "markdown",
   "metadata": {},
   "source": [
    "Changed a part to yellow"
   ]
  },
  {
   "cell_type": "code",
   "execution_count": 10,
   "metadata": {},
   "outputs": [
    {
     "data": {
      "text/plain": [
       "-1"
      ]
     },
     "execution_count": 10,
     "metadata": {},
     "output_type": "execute_result"
    }
   ],
   "source": [
    "yellow_part = image.copy()\n",
    "\n",
    "yellow_part[:, 250:] = (0, 255, 255)\n",
    "\n",
    "cv2.imshow('Yellow part', yellow_part)\n",
    "cv2.waitKey(0)"
   ]
  },
  {
   "cell_type": "markdown",
   "metadata": {},
   "source": [
    "Create forms in image"
   ]
  },
  {
   "cell_type": "code",
   "execution_count": 11,
   "metadata": {},
   "outputs": [
    {
     "data": {
      "text/plain": [
       "-1"
      ]
     },
     "execution_count": 11,
     "metadata": {},
     "output_type": "execute_result"
    }
   ],
   "source": [
    "forms_image = image.copy()\n",
    "\n",
    "# Blue rectangle in all weight\n",
    "forms_image[20:50, :] = (255, 0, 0)\n",
    "\n",
    "# Yellow rectangle in all height\n",
    "forms_image[:, 100:130] = (0, 255, 255)\n",
    "\n",
    "# Red square \n",
    "forms_image[100:160, 10:70] = (0, 0, 255)\n",
    "\n",
    "# Cyan blue rectange in base\n",
    "forms_image[400:460, 10:95] = (255, 255, 0)\n",
    "\n",
    "# Black rectange in right yellow line\n",
    "forms_image[70:100, 200:400] = (0, 0, 0)\n",
    "\n",
    "# Green rectange in right yellow line\n",
    "forms_image[160:400, 140:300] = (0, 255, 0)\n",
    "\n",
    "# White rectange in right yellow line down green rectangle\n",
    "forms_image[300:440, 220:360] = (255, 255, 255)\n",
    "\n",
    "\n",
    "cv2.imshow('Forms Image', forms_image)\n",
    "cv2.waitKey(0)"
   ]
  },
  {
   "cell_type": "markdown",
   "metadata": {},
   "source": [
    "Using build in opencv functions"
   ]
  },
  {
   "cell_type": "code",
   "execution_count": 12,
   "metadata": {},
   "outputs": [
    {
     "data": {
      "text/plain": [
       "-1"
      ]
     },
     "execution_count": 12,
     "metadata": {},
     "output_type": "execute_result"
    }
   ],
   "source": [
    "circle_image = image.copy()\n",
    "\n",
    "# Writing line that goes from origin to down\n",
    "cv2.line(circle_image, (0, 0), (50, 200), color=(0, 255, 0))\n",
    "\n",
    "# Blue square without fill\n",
    "cv2.rectangle(circle_image, (20,20), (80, 80), color=(255, 0, 0), thickness=10)\n",
    "\n",
    "# Green square with fill\n",
    "cv2.rectangle(circle_image, (120, 40), (130, 80), color=(255, 255, 0), thickness=-1)\n",
    "\n",
    "# Red line going from center to bottom\n",
    "cv2.line(circle_image, (230, 230), (100, 110), color=(0, 0, 255), thickness=5)\n",
    "\n",
    "# Creatgin yellow circe inside blue rectangle\n",
    "cv2.circle(circle_image, (50, 50), radius=30, color=(0, 255, 255))\n",
    "\n",
    "# Creating a lot of circles going from center and growing radius\n",
    "\n",
    "# getting radious values from 0 to 130 max\n",
    "for radius in range(0, 185, 15):\n",
    "    cv2.circle(circle_image, (230, 230), radius=radius, color=(0, 0, 255))\n",
    "\n",
    "\n",
    "\n",
    "\n",
    "cv2.imshow('Circle Image', circle_image)\n",
    "cv2.waitKey(0)"
   ]
  },
  {
   "cell_type": "markdown",
   "metadata": {},
   "source": [
    "Writing Text in image"
   ]
  },
  {
   "cell_type": "code",
   "execution_count": 13,
   "metadata": {},
   "outputs": [
    {
     "data": {
      "text/plain": [
       "-1"
      ]
     },
     "execution_count": 13,
     "metadata": {},
     "output_type": "execute_result"
    }
   ],
   "source": [
    "text_image = image.copy()\n",
    "\n",
    "cv2.putText(text_image, text='Hello World!', org=(100, 230), fontFace=cv2.FONT_HERSHEY_COMPLEX, fontScale=1, color=(0, 0, 0), lineType=cv2.LINE_AA, thickness=2)\n",
    "\n",
    "cv2.imshow(\"Text image\", text_image)\n",
    "cv2.waitKey(0)"
   ]
  },
  {
   "cell_type": "markdown",
   "metadata": {},
   "source": [
    "Transformation and Masks"
   ]
  },
  {
   "cell_type": "code",
   "execution_count": 14,
   "metadata": {},
   "outputs": [
    {
     "data": {
      "text/plain": [
       "-1"
      ]
     },
     "execution_count": 14,
     "metadata": {},
     "output_type": "execute_result"
    }
   ],
   "source": [
    "# Crop\n",
    "\n",
    "crop_image = image.copy()\n",
    "\n",
    "crop_image = crop_image[100:400, 100:400]\n",
    "\n",
    "cv2.imshow('Cropped Image', crop_image)\n",
    "cv2.imwrite('cropped.jpg', crop_image)\n",
    "cv2.waitKey(0)"
   ]
  },
  {
   "cell_type": "markdown",
   "metadata": {},
   "source": [
    "Resize"
   ]
  },
  {
   "cell_type": "code",
   "execution_count": 16,
   "metadata": {},
   "outputs": [
    {
     "data": {
      "text/plain": [
       "-1"
      ]
     },
     "execution_count": 16,
     "metadata": {},
     "output_type": "execute_result"
    }
   ],
   "source": [
    "resized_image = image.copy()\n",
    "\n",
    "cv2.imshow('Original Image', image)\n",
    "width = image.shape[1] \n",
    "height = image.shape[0]\n",
    "\n",
    "# Get proportion\n",
    "proportion = float(width/height)\n",
    "\n",
    "# Creating new wight and heght maintaing the proportion\n",
    "new_width = 320\n",
    "new_height = int(new_width * proportion)\n",
    "\n",
    "# New size\n",
    "new_size = (new_width, new_height)\n",
    "\n",
    "# Resize the image\n",
    "resized_image = cv2.resize(resized_image, new_size, interpolation=cv2.INTER_AREA)\n",
    "\n",
    "cv2.imshow('Resized Image', resized_image)\n",
    "cv2.waitKey(0)"
   ]
  },
  {
   "cell_type": "markdown",
   "metadata": {},
   "source": [
    "Slicing"
   ]
  },
  {
   "cell_type": "code",
   "execution_count": 24,
   "metadata": {},
   "outputs": [
    {
     "name": "stdout",
     "output_type": "stream",
     "text": [
      "(230, 230, 3)\n"
     ]
    },
    {
     "data": {
      "text/plain": [
       "-1"
      ]
     },
     "execution_count": 24,
     "metadata": {},
     "output_type": "execute_result"
    }
   ],
   "source": [
    "slicing_image = image.copy()\n",
    "\n",
    "cv2.imshow('Original Image', image)\n",
    "\n",
    "# Rebuild the image interpolating lines and columns\n",
    "# Pick first line and ignore the second\n",
    "slicing_image = slicing_image[::2, ::2]\n",
    "\n",
    "print(slicing_image.shape)\n",
    "cv2.imshow('Slicing Image', slicing_image)\n",
    "cv2.waitKey(0)\n"
   ]
  },
  {
   "cell_type": "markdown",
   "metadata": {},
   "source": [
    "Fliping Image"
   ]
  },
  {
   "cell_type": "code",
   "execution_count": 31,
   "metadata": {},
   "outputs": [
    {
     "data": {
      "text/plain": [
       "-1"
      ]
     },
     "execution_count": 31,
     "metadata": {},
     "output_type": "execute_result"
    }
   ],
   "source": [
    "flip_image = image.copy()\n",
    "flip_horizontal_image = image.copy()\n",
    "flip_vertical_image = image.copy()\n",
    "\n",
    "# Flip horizontal image\n",
    "flip_horizontal_image = cv2.flip(flip_horizontal_image, 1)\n",
    "#flip_horizontal_image = flip_horizontal_image[:, ::-1]\n",
    "\n",
    "# Flip vertical image\n",
    "flip_vertical_image = cv2.flip(flip_vertical_image, 0)\n",
    "#flip_vertical_image = flip_vertical_image[::-1, :]\n",
    "\n",
    "# Flip horizontal and vertical image\n",
    "flip_image = cv2.flip(flip_image, -1)\n",
    "#flip_image = flip_image[::-1, ::-1]\n",
    "\n",
    "cv2.imshow('Original Image', image)\n",
    "cv2.imshow('Flipped horizontal image', flip_horizontal_image)\n",
    "cv2.imshow('Flipped Vertical image', flip_vertical_image)\n",
    "cv2.imshow('Flipped Vertical and Horizontal image', flip_image)\n",
    "\n",
    "\n",
    "cv2.waitKey(0)\n"
   ]
  },
  {
   "cell_type": "markdown",
   "metadata": {},
   "source": [
    "Rotate Image"
   ]
  },
  {
   "cell_type": "code",
   "execution_count": 33,
   "metadata": {},
   "outputs": [
    {
     "data": {
      "text/plain": [
       "-1"
      ]
     },
     "execution_count": 33,
     "metadata": {},
     "output_type": "execute_result"
    }
   ],
   "source": [
    "rotate_image = image.copy()\n",
    "\n",
    "# Get image widht and height\n",
    "(width, height) = rotate_image.shape[:2]\n",
    "# Get center\n",
    "# // operator does a division and round the result to the nearest integer\n",
    "center = (width // 2, height // 2)\n",
    "\n",
    "# Calcs Matrix affine to rotate image\n",
    "M = cv2.getRotationMatrix2D(center, 45, 1)\n",
    "# Rotate image\n",
    "rotate_image  = cv2.warpAffine(rotate_image, M, (width, height))\n",
    "\n",
    "cv2.imshow('Rotated image in 45 degrees', rotate_image)\n",
    "cv2.waitKey(0)"
   ]
  },
  {
   "cell_type": "markdown",
   "metadata": {},
   "source": [
    "Masks"
   ]
  },
  {
   "cell_type": "code",
   "execution_count": 37,
   "metadata": {},
   "outputs": [
    {
     "data": {
      "text/plain": [
       "-1"
      ]
     },
     "execution_count": 37,
     "metadata": {},
     "output_type": "execute_result"
    }
   ],
   "source": [
    "mask_image = image.copy()\n",
    "# Creating matrix with zeros with image shape to use as image\n",
    "mask = np.zeros(shape=mask_image.shape[:2], dtype='uint8')\n",
    "\n",
    "# Getting circle center\n",
    "# The // operator is used to make a division and round the result to the nearest integer\n",
    "(circleX, circleY) = (mask_image.shape[1] // 2, mask_image.shape[0] // 2)\n",
    "cv2.circle(mask, center=(circleX, circleY), radius=200, color=(255, 255, 255), thickness=-1)\n",
    "\n",
    "mask_image = cv2.bitwise_and(src1=mask_image, src2=mask_image, mask=mask)\n",
    "\n",
    "cv2.imshow('Mask image', mask_image)\n",
    "cv2.waitKey(0)"
   ]
  },
  {
   "cell_type": "markdown",
   "metadata": {},
   "source": [
    "Double Mask "
   ]
  },
  {
   "cell_type": "code",
   "execution_count": 41,
   "metadata": {},
   "outputs": [
    {
     "data": {
      "text/plain": [
       "-1"
      ]
     },
     "execution_count": 41,
     "metadata": {},
     "output_type": "execute_result"
    }
   ],
   "source": [
    "double_mask_image = image.copy()\n",
    "# Creating matrix with zeros with image shape to use as image\n",
    "mask = np.zeros(shape=double_mask_image.shape[:2], dtype='uint8')\n",
    "\n",
    "# Getting circle center\n",
    "# The // operator is used to make a division and round the result to the nearest integer\n",
    "(circleX, circleY) = (double_mask_image.shape[1] // 2, double_mask_image.shape[0] // 2)\n",
    "cv2.circle(mask, center=(circleX, circleY), radius=100, color=(255, 255, 255), thickness=-1)\n",
    "cv2.circle(mask, center=(circleX, circleY), radius=200, color=(255, 255, 255), thickness=20, lineType=cv2.LINE_AA)\n",
    "\n",
    "double_mask_image = cv2.bitwise_and(src1=double_mask_image, src2=double_mask_image, mask=mask)\n",
    "\n",
    "cv2.imshow('Double Mask image', double_mask_image)\n",
    "cv2.waitKey(0)"
   ]
  },
  {
   "cell_type": "markdown",
   "metadata": {},
   "source": [
    "Color Systems"
   ]
  },
  {
   "cell_type": "code",
   "execution_count": 43,
   "metadata": {},
   "outputs": [
    {
     "data": {
      "text/plain": [
       "-1"
      ]
     },
     "execution_count": 43,
     "metadata": {},
     "output_type": "execute_result"
    }
   ],
   "source": [
    "# Changing the image color\n",
    "black_white_image = image.copy()\n",
    "hsv_image = image.copy()\n",
    "lab_image = image.copy()\n",
    "\n",
    "# Black ad White\n",
    "black_white_image =  cv2.cvtColor(black_white_image, code=cv2.COLOR_BGR2GRAY)\n",
    "# Hsv filter\n",
    "hsv_image = cv2.cvtColor(hsv_image, code=cv2.COLOR_BGR2HSV)\n",
    "# l*a*b\n",
    "lab_image = cv2.cvtColor(lab_image, code=cv2.COLOR_BGR2LAB)\n",
    "\n",
    "cv2.imshow('Original Image', image)\n",
    "cv2.imshow('Black White', black_white_image)\n",
    "cv2.imshow('HSV', hsv_image)\n",
    "cv2.imshow('L*A*B', lab_image)\n",
    "\n",
    "cv2.waitKey(0)"
   ]
  },
  {
   "cell_type": "markdown",
   "metadata": {},
   "source": [
    "Colors Channels in coloful image"
   ]
  },
  {
   "cell_type": "code",
   "execution_count": 46,
   "metadata": {},
   "outputs": [
    {
     "data": {
      "text/plain": [
       "-1"
      ]
     },
     "execution_count": 46,
     "metadata": {},
     "output_type": "execute_result"
    }
   ],
   "source": [
    "# Spliting colors channels\n",
    "channels_image = image.copy()\n",
    "(blue_channel, green_channel, red_channel) = cv2.split(channels_image)\n",
    "\n",
    "cv2.imshow('Original', image)\n",
    "cv2.imshow('Blue Channel', blue_channel)\n",
    "cv2.imshow('Green Channel', green_channel)\n",
    "cv2.imshow('Red Channel', red_channel)\n",
    "\n",
    "cv2.waitKey(0)"
   ]
  },
  {
   "cell_type": "code",
   "execution_count": 51,
   "metadata": {},
   "outputs": [
    {
     "data": {
      "text/plain": [
       "-1"
      ]
     },
     "execution_count": 51,
     "metadata": {},
     "output_type": "execute_result"
    }
   ],
   "source": [
    "# Merging all channels\n",
    "result = cv2.merge(mv=[blue_channel, green_channel, red_channel])\n",
    "\n",
    "# Creating a matrix with image size to use \n",
    "zeros = np.zeros(shape=result.shape[:2], dtype='uint8')\n",
    "\n",
    "blue_image = cv2.merge([blue_channel, zeros, zeros])\n",
    "red_image = cv2.merge([zeros, zeros, red_channel])\n",
    "green_image = cv2.merge([zeros, green_channel, zeros])\n",
    "\n",
    "cv2.imshow('Blue Image', blue_image)\n",
    "cv2.imshow('Red Image', red_image)\n",
    "cv2.imshow('Green Image', green_image)\n",
    "cv2.imshow('Original Result', result)\n",
    "cv2.waitKey(0)\n",
    "\n"
   ]
  }
 ],
 "metadata": {
  "kernelspec": {
   "display_name": "Python 3.11.0 ('venv': venv)",
   "language": "python",
   "name": "python3"
  },
  "language_info": {
   "codemirror_mode": {
    "name": "ipython",
    "version": 3
   },
   "file_extension": ".py",
   "mimetype": "text/x-python",
   "name": "python",
   "nbconvert_exporter": "python",
   "pygments_lexer": "ipython3",
   "version": "3.11.0"
  },
  "orig_nbformat": 4,
  "vscode": {
   "interpreter": {
    "hash": "0b856f8f19cd4c2fac5f67c33080d7ecfefd8e6c5544ffe964cbe1f1c82591ea"
   }
  }
 },
 "nbformat": 4,
 "nbformat_minor": 2
}
