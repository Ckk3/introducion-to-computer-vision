{
 "cells": [
  {
   "cell_type": "code",
   "execution_count": 29,
   "metadata": {},
   "outputs": [],
   "source": [
    "import cv2\n",
    "import numpy as np"
   ]
  },
  {
   "cell_type": "markdown",
   "metadata": {},
   "source": [
    "Reading image and printing details"
   ]
  },
  {
   "cell_type": "code",
   "execution_count": 30,
   "metadata": {},
   "outputs": [],
   "source": [
    "# Reading image\n",
    "image = cv2.imread('image.jpg')"
   ]
  },
  {
   "cell_type": "code",
   "execution_count": 31,
   "metadata": {},
   "outputs": [
    {
     "name": "stdout",
     "output_type": "stream",
     "text": [
      "(460, 460, 3)\n",
      "Width in px: 460\n",
      "Height in px: 460\n",
      "Channels quantity: 3\n"
     ]
    }
   ],
   "source": [
    "# Image details\n",
    "print(image.shape)\n",
    "print(f'Width in px: {image.shape[1]}')\n",
    "print(f'Height in px: {image.shape[0]}')\n",
    "print(f'Channels quantity: {image.shape[2]}')"
   ]
  },
  {
   "cell_type": "code",
   "execution_count": 32,
   "metadata": {},
   "outputs": [
    {
     "data": {
      "text/plain": [
       "-1"
      ]
     },
     "execution_count": 32,
     "metadata": {},
     "output_type": "execute_result"
    }
   ],
   "source": [
    "# Shows image\n",
    "cv2.imshow('Window Name', image)\n",
    "cv2.waitKey(0)"
   ]
  },
  {
   "cell_type": "markdown",
   "metadata": {},
   "source": [
    "Get BRG order (thats right, brg not rgb)"
   ]
  },
  {
   "cell_type": "code",
   "execution_count": 33,
   "metadata": {},
   "outputs": [
    {
     "name": "stdout",
     "output_type": "stream",
     "text": [
      "Pixel (0, 0) has this colors: \n",
      "Red: 249 Green: 236 Blue: 255\n"
     ]
    }
   ],
   "source": [
    "# Get BGR order \n",
    "(b, g, r) = image[0, 0]\n",
    "# Print results\n",
    "print('Pixel (0, 0) has this colors: ')\n",
    "print(f'Red: {r} Green: {g} Blue: {b}')"
   ]
  },
  {
   "cell_type": "markdown",
   "metadata": {},
   "source": [
    "Change all colors to Blue"
   ]
  },
  {
   "cell_type": "code",
   "execution_count": 34,
   "metadata": {},
   "outputs": [
    {
     "data": {
      "text/plain": [
       "-1"
      ]
     },
     "execution_count": 34,
     "metadata": {},
     "output_type": "execute_result"
    }
   ],
   "source": [
    "# Create copy from image\n",
    "blue_image = image.copy()\n",
    "\n",
    "for x in range(0, blue_image.shape[1]):\n",
    "    for y in range(0, blue_image.shape[0]):\n",
    "        blue_image[y, x] = (255, 0, 0)\n",
    "\n",
    "cv2.imshow('All blue image', blue_image)\n",
    "cv2.waitKey(0)"
   ]
  },
  {
   "cell_type": "markdown",
   "metadata": {},
   "source": [
    "Change color every pixel"
   ]
  },
  {
   "cell_type": "code",
   "execution_count": 35,
   "metadata": {},
   "outputs": [
    {
     "data": {
      "text/plain": [
       "-1"
      ]
     },
     "execution_count": 35,
     "metadata": {},
     "output_type": "execute_result"
    }
   ],
   "source": [
    "# Create copy from image\n",
    "change_image = image.copy()\n",
    "\n",
    "for x in range(0, change_image.shape[1]):\n",
    "    for y in range(0, change_image.shape[0]):\n",
    "        # Getting the rest of division\n",
    "        change_image[y, x] = (x%256, y%256, x%256)\n",
    "\n",
    "cv2.imshow('Changed Color', change_image)\n",
    "cv2.waitKey(0)"
   ]
  },
  {
   "cell_type": "markdown",
   "metadata": {},
   "source": [
    "Change only green field"
   ]
  },
  {
   "cell_type": "code",
   "execution_count": 36,
   "metadata": {},
   "outputs": [
    {
     "data": {
      "text/plain": [
       "-1"
      ]
     },
     "execution_count": 36,
     "metadata": {},
     "output_type": "execute_result"
    }
   ],
   "source": [
    "# Copy from image \n",
    "green_image = image.copy()\n",
    "\n",
    "for x in range(0, green_image.shape[1]):\n",
    "    for y in range(0, green_image.shape[0]):\n",
    "        green_image[y, x] = (0, (x*y)%256 , 0)\n",
    "\n",
    "\n",
    "cv2.imshow('Change green field', green_image)\n",
    "cv2.waitKey(0)\n"
   ]
  },
  {
   "cell_type": "markdown",
   "metadata": {},
   "source": [
    "Change in 10 in 10 pixels"
   ]
  },
  {
   "cell_type": "code",
   "execution_count": 38,
   "metadata": {},
   "outputs": [
    {
     "data": {
      "text/plain": [
       "-1"
      ]
     },
     "execution_count": 38,
     "metadata": {},
     "output_type": "execute_result"
    }
   ],
   "source": [
    "ten_ten_image = image.copy()\n",
    "\n",
    "for x in range(0, ten_ten_image.shape[1], 10):\n",
    "    for y in range(0, ten_ten_image.shape[0], 10):\n",
    "        # Change this pixel to yellow\n",
    "        ten_ten_image[y, x] = (0, 255, 255)\n",
    "\n",
    "cv2.imshow('Yelloy ten ten', ten_ten_image)\n",
    "cv2.waitKey(0)"
   ]
  }
 ],
 "metadata": {
  "kernelspec": {
   "display_name": "Python 3.9.12 ('venv': venv)",
   "language": "python",
   "name": "python3"
  },
  "language_info": {
   "codemirror_mode": {
    "name": "ipython",
    "version": 3
   },
   "file_extension": ".py",
   "mimetype": "text/x-python",
   "name": "python",
   "nbconvert_exporter": "python",
   "pygments_lexer": "ipython3",
   "version": "3.11.0"
  },
  "orig_nbformat": 4,
  "vscode": {
   "interpreter": {
    "hash": "a9c2575cda6f12245c53bfc281fbffec917033c657221397a35f03404e3a4459"
   }
  }
 },
 "nbformat": 4,
 "nbformat_minor": 2
}
